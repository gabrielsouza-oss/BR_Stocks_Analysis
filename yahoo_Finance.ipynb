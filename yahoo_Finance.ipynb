{
  "nbformat": 4,
  "nbformat_minor": 0,
  "metadata": {
    "colab": {
      "name": "yahoo Finance.ipynb",
      "provenance": [],
      "collapsed_sections": [
        "4becKG_DpGxI",
        "vEN7SdPrr5Xz"
      ]
    },
    "kernelspec": {
      "name": "python3",
      "display_name": "Python 3"
    },
    "language_info": {
      "name": "python"
    }
  },
  "cells": [
    {
      "cell_type": "code",
      "execution_count": 12,
      "metadata": {
        "colab": {
          "base_uri": "https://localhost:8080/"
        },
        "id": "AsbJkkgfJNXF",
        "outputId": "74499323-4145-49cf-a5ce-1fcb99aabfff"
      },
      "outputs": [
        {
          "output_type": "stream",
          "name": "stdout",
          "text": [
            "Requirement already satisfied: yfinance in /usr/local/lib/python3.7/dist-packages (0.1.67)\n",
            "Requirement already satisfied: requests>=2.20 in /usr/local/lib/python3.7/dist-packages (from yfinance) (2.23.0)\n",
            "Requirement already satisfied: multitasking>=0.0.7 in /usr/local/lib/python3.7/dist-packages (from yfinance) (0.0.10)\n",
            "Requirement already satisfied: pandas>=0.24 in /usr/local/lib/python3.7/dist-packages (from yfinance) (1.1.5)\n",
            "Requirement already satisfied: numpy>=1.15 in /usr/local/lib/python3.7/dist-packages (from yfinance) (1.19.5)\n",
            "Requirement already satisfied: lxml>=4.5.1 in /usr/local/lib/python3.7/dist-packages (from yfinance) (4.7.1)\n",
            "Requirement already satisfied: python-dateutil>=2.7.3 in /usr/local/lib/python3.7/dist-packages (from pandas>=0.24->yfinance) (2.8.2)\n",
            "Requirement already satisfied: pytz>=2017.2 in /usr/local/lib/python3.7/dist-packages (from pandas>=0.24->yfinance) (2018.9)\n",
            "Requirement already satisfied: six>=1.5 in /usr/local/lib/python3.7/dist-packages (from python-dateutil>=2.7.3->pandas>=0.24->yfinance) (1.15.0)\n",
            "Requirement already satisfied: chardet<4,>=3.0.2 in /usr/local/lib/python3.7/dist-packages (from requests>=2.20->yfinance) (3.0.4)\n",
            "Requirement already satisfied: certifi>=2017.4.17 in /usr/local/lib/python3.7/dist-packages (from requests>=2.20->yfinance) (2021.10.8)\n",
            "Requirement already satisfied: idna<3,>=2.5 in /usr/local/lib/python3.7/dist-packages (from requests>=2.20->yfinance) (2.10)\n",
            "Requirement already satisfied: urllib3!=1.25.0,!=1.25.1,<1.26,>=1.21.1 in /usr/local/lib/python3.7/dist-packages (from requests>=2.20->yfinance) (1.24.3)\n"
          ]
        }
      ],
      "source": [
        "!pip install yfinance\n",
        "#https://github.com/ranaroussi/yfinance\n",
        "#https://finance.yahoo.com/"
      ]
    },
    {
      "cell_type": "code",
      "source": [
        "import yfinance as yf\n",
        "import numpy as np\n",
        "import sys\n",
        "import pandas as pd\n",
        "import requests \n",
        "from pandas_datareader import data as pdr\n",
        "pd.options.display.max_columns = None"
      ],
      "metadata": {
        "id": "kLJEk3HpJPW5"
      },
      "execution_count": 13,
      "outputs": []
    },
    {
      "cell_type": "code",
      "source": [
        "def mergedataframes(df1 , df2, stringdf1 = None, stringdf2 = None):\n",
        "  dfmerged = pd.merge(df1, df2, on=\"Date\",suffixes = (stringdf1,stringdf2))\n",
        "  return dfmerged"
      ],
      "metadata": {
        "id": "hdFjMQEETTR8"
      },
      "execution_count": 14,
      "outputs": []
    },
    {
      "cell_type": "code",
      "source": [
        "headers = {'User-Agent': 'Mozilla/5.0 (Macintosh; Intel Mac OS X 10_10_1) AppleWebKit/537.36 (KHTML, like Gecko) Chrome/39.0.2171.95 Safari/537.36'}\n",
        "url = \"http://www.fundamentus.com.br/detalhes.php?papel=\"\n",
        "\n",
        "html = requests.get(url,headers=headers)\n",
        "tickers = pd.read_html(html.content)[0]\n",
        "\n",
        "tickers"
      ],
      "metadata": {
        "colab": {
          "base_uri": "https://localhost:8080/",
          "height": 424
        },
        "id": "KPsBAYYIfIrz",
        "outputId": "9822e7c5-8625-4729-eb4f-3fc66cc8ac34"
      },
      "execution_count": 15,
      "outputs": [
        {
          "output_type": "execute_result",
          "data": {
            "text/html": [
              "\n",
              "  <div id=\"df-33b1a24b-20f3-4567-9246-754923c2e7b9\">\n",
              "    <div class=\"colab-df-container\">\n",
              "      <div>\n",
              "<style scoped>\n",
              "    .dataframe tbody tr th:only-of-type {\n",
              "        vertical-align: middle;\n",
              "    }\n",
              "\n",
              "    .dataframe tbody tr th {\n",
              "        vertical-align: top;\n",
              "    }\n",
              "\n",
              "    .dataframe thead th {\n",
              "        text-align: right;\n",
              "    }\n",
              "</style>\n",
              "<table border=\"1\" class=\"dataframe\">\n",
              "  <thead>\n",
              "    <tr style=\"text-align: right;\">\n",
              "      <th></th>\n",
              "      <th>Papel</th>\n",
              "      <th>Nome Comercial</th>\n",
              "      <th>Razão Social</th>\n",
              "    </tr>\n",
              "  </thead>\n",
              "  <tbody>\n",
              "    <tr>\n",
              "      <th>0</th>\n",
              "      <td>AALR3</td>\n",
              "      <td>ALLIAR</td>\n",
              "      <td>CENTRO DE IMAGEM DIAGNOSTICOS S.A.</td>\n",
              "    </tr>\n",
              "    <tr>\n",
              "      <th>1</th>\n",
              "      <td>ABCB3</td>\n",
              "      <td>ABC Brasil</td>\n",
              "      <td>BANCO ABC BRASIL S/A</td>\n",
              "    </tr>\n",
              "    <tr>\n",
              "      <th>2</th>\n",
              "      <td>ABCB4</td>\n",
              "      <td>ABC Brasil</td>\n",
              "      <td>BANCO ABC BRASIL S/A</td>\n",
              "    </tr>\n",
              "    <tr>\n",
              "      <th>3</th>\n",
              "      <td>ABEV3</td>\n",
              "      <td>AMBEV S/A</td>\n",
              "      <td>AMBEV S.A.</td>\n",
              "    </tr>\n",
              "    <tr>\n",
              "      <th>4</th>\n",
              "      <td>ABRE3</td>\n",
              "      <td>SOMOS EDUCA</td>\n",
              "      <td>SOMOS EDUCAÇÃO S.A.</td>\n",
              "    </tr>\n",
              "    <tr>\n",
              "      <th>...</th>\n",
              "      <td>...</td>\n",
              "      <td>...</td>\n",
              "      <td>...</td>\n",
              "    </tr>\n",
              "    <tr>\n",
              "      <th>1017</th>\n",
              "      <td>WLMM3</td>\n",
              "      <td>WLM</td>\n",
              "      <td>WLM INDÚSTRIA E COMÉRCIO S/A</td>\n",
              "    </tr>\n",
              "    <tr>\n",
              "      <th>1018</th>\n",
              "      <td>WLMM4</td>\n",
              "      <td>WLM</td>\n",
              "      <td>WLM INDÚSTRIA E COMÉRCIO S/A</td>\n",
              "    </tr>\n",
              "    <tr>\n",
              "      <th>1019</th>\n",
              "      <td>WMBY3</td>\n",
              "      <td>WEMBLEY SOCIEDADE ANÔNIMA</td>\n",
              "      <td>WEMBLEY SOCIEDADE ANÔNIMA</td>\n",
              "    </tr>\n",
              "    <tr>\n",
              "      <th>1020</th>\n",
              "      <td>WSON33</td>\n",
              "      <td>Wilson Sons</td>\n",
              "      <td>WILSON SONS LIMITED</td>\n",
              "    </tr>\n",
              "    <tr>\n",
              "      <th>1021</th>\n",
              "      <td>YDUQ3</td>\n",
              "      <td>YDUQS PART</td>\n",
              "      <td>ESTACIO PARTICIPACOES S.A.</td>\n",
              "    </tr>\n",
              "  </tbody>\n",
              "</table>\n",
              "<p>1022 rows × 3 columns</p>\n",
              "</div>\n",
              "      <button class=\"colab-df-convert\" onclick=\"convertToInteractive('df-33b1a24b-20f3-4567-9246-754923c2e7b9')\"\n",
              "              title=\"Convert this dataframe to an interactive table.\"\n",
              "              style=\"display:none;\">\n",
              "        \n",
              "  <svg xmlns=\"http://www.w3.org/2000/svg\" height=\"24px\"viewBox=\"0 0 24 24\"\n",
              "       width=\"24px\">\n",
              "    <path d=\"M0 0h24v24H0V0z\" fill=\"none\"/>\n",
              "    <path d=\"M18.56 5.44l.94 2.06.94-2.06 2.06-.94-2.06-.94-.94-2.06-.94 2.06-2.06.94zm-11 1L8.5 8.5l.94-2.06 2.06-.94-2.06-.94L8.5 2.5l-.94 2.06-2.06.94zm10 10l.94 2.06.94-2.06 2.06-.94-2.06-.94-.94-2.06-.94 2.06-2.06.94z\"/><path d=\"M17.41 7.96l-1.37-1.37c-.4-.4-.92-.59-1.43-.59-.52 0-1.04.2-1.43.59L10.3 9.45l-7.72 7.72c-.78.78-.78 2.05 0 2.83L4 21.41c.39.39.9.59 1.41.59.51 0 1.02-.2 1.41-.59l7.78-7.78 2.81-2.81c.8-.78.8-2.07 0-2.86zM5.41 20L4 18.59l7.72-7.72 1.47 1.35L5.41 20z\"/>\n",
              "  </svg>\n",
              "      </button>\n",
              "      \n",
              "  <style>\n",
              "    .colab-df-container {\n",
              "      display:flex;\n",
              "      flex-wrap:wrap;\n",
              "      gap: 12px;\n",
              "    }\n",
              "\n",
              "    .colab-df-convert {\n",
              "      background-color: #E8F0FE;\n",
              "      border: none;\n",
              "      border-radius: 50%;\n",
              "      cursor: pointer;\n",
              "      display: none;\n",
              "      fill: #1967D2;\n",
              "      height: 32px;\n",
              "      padding: 0 0 0 0;\n",
              "      width: 32px;\n",
              "    }\n",
              "\n",
              "    .colab-df-convert:hover {\n",
              "      background-color: #E2EBFA;\n",
              "      box-shadow: 0px 1px 2px rgba(60, 64, 67, 0.3), 0px 1px 3px 1px rgba(60, 64, 67, 0.15);\n",
              "      fill: #174EA6;\n",
              "    }\n",
              "\n",
              "    [theme=dark] .colab-df-convert {\n",
              "      background-color: #3B4455;\n",
              "      fill: #D2E3FC;\n",
              "    }\n",
              "\n",
              "    [theme=dark] .colab-df-convert:hover {\n",
              "      background-color: #434B5C;\n",
              "      box-shadow: 0px 1px 3px 1px rgba(0, 0, 0, 0.15);\n",
              "      filter: drop-shadow(0px 1px 2px rgba(0, 0, 0, 0.3));\n",
              "      fill: #FFFFFF;\n",
              "    }\n",
              "  </style>\n",
              "\n",
              "      <script>\n",
              "        const buttonEl =\n",
              "          document.querySelector('#df-33b1a24b-20f3-4567-9246-754923c2e7b9 button.colab-df-convert');\n",
              "        buttonEl.style.display =\n",
              "          google.colab.kernel.accessAllowed ? 'block' : 'none';\n",
              "\n",
              "        async function convertToInteractive(key) {\n",
              "          const element = document.querySelector('#df-33b1a24b-20f3-4567-9246-754923c2e7b9');\n",
              "          const dataTable =\n",
              "            await google.colab.kernel.invokeFunction('convertToInteractive',\n",
              "                                                     [key], {});\n",
              "          if (!dataTable) return;\n",
              "\n",
              "          const docLinkHtml = 'Like what you see? Visit the ' +\n",
              "            '<a target=\"_blank\" href=https://colab.research.google.com/notebooks/data_table.ipynb>data table notebook</a>'\n",
              "            + ' to learn more about interactive tables.';\n",
              "          element.innerHTML = '';\n",
              "          dataTable['output_type'] = 'display_data';\n",
              "          await google.colab.output.renderOutput(dataTable, element);\n",
              "          const docLink = document.createElement('div');\n",
              "          docLink.innerHTML = docLinkHtml;\n",
              "          element.appendChild(docLink);\n",
              "        }\n",
              "      </script>\n",
              "    </div>\n",
              "  </div>\n",
              "  "
            ],
            "text/plain": [
              "       Papel             Nome Comercial                        Razão Social\n",
              "0      AALR3                     ALLIAR  CENTRO DE IMAGEM DIAGNOSTICOS S.A.\n",
              "1      ABCB3                 ABC Brasil                BANCO ABC BRASIL S/A\n",
              "2      ABCB4                 ABC Brasil                BANCO ABC BRASIL S/A\n",
              "3      ABEV3                  AMBEV S/A                          AMBEV S.A.\n",
              "4      ABRE3                SOMOS EDUCA                 SOMOS EDUCAÇÃO S.A.\n",
              "...      ...                        ...                                 ...\n",
              "1017   WLMM3                        WLM        WLM INDÚSTRIA E COMÉRCIO S/A\n",
              "1018   WLMM4                        WLM        WLM INDÚSTRIA E COMÉRCIO S/A\n",
              "1019   WMBY3  WEMBLEY SOCIEDADE ANÔNIMA           WEMBLEY SOCIEDADE ANÔNIMA\n",
              "1020  WSON33                Wilson Sons                 WILSON SONS LIMITED\n",
              "1021   YDUQ3                 YDUQS PART          ESTACIO PARTICIPACOES S.A.\n",
              "\n",
              "[1022 rows x 3 columns]"
            ]
          },
          "metadata": {},
          "execution_count": 15
        }
      ]
    },
    {
      "cell_type": "markdown",
      "source": [
        "#Single Processing"
      ],
      "metadata": {
        "id": "4becKG_DpGxI"
      }
    },
    {
      "cell_type": "markdown",
      "source": [
        "Aproximadamente, 12 minutos para extrair o histórico de todas as ações listadas na B3"
      ],
      "metadata": {
        "id": "aACwz9d24unM"
      }
    },
    {
      "cell_type": "code",
      "source": [
        "Choose_Stocks = tickers[\"Papel\"].values + \".SA\"\n",
        "\n",
        "df_final = pd.DataFrame()\n",
        "\n",
        "for i in Choose_Stocks:\n",
        "  Stock = yf.Ticker(i)\n",
        "  yf.pdr_override()\n",
        "  dfStock = Stock.history(period=\"max\")\n",
        "  dfStock[\"Papel\"] = i\n",
        "  df_final = df_final.append(dfStock)\n",
        "\n",
        "df_final = df_final[df_final.columns[:-1]]\n",
        "df_final"
      ],
      "metadata": {
        "id": "WXWveue0UhGB"
      },
      "execution_count": null,
      "outputs": []
    },
    {
      "cell_type": "markdown",
      "source": [
        "#MultiProcessing"
      ],
      "metadata": {
        "id": "thdVnXTIpJYU"
      }
    },
    {
      "cell_type": "markdown",
      "source": [
        "Aproximadamente, 55 segundos para extrair o histórico de todas as ações listadas na B3"
      ],
      "metadata": {
        "id": "vaj-mAxg421V"
      }
    },
    {
      "cell_type": "code",
      "source": [
        "def scrape_Yf_Finance(Choose_Stocks):\n",
        "\n",
        "  Stock = yf.Ticker(Choose_Stocks)\n",
        "  yf.pdr_override()\n",
        "  dfStock = Stock.history(period=\"max\")\n",
        "  dfStock[\"Papel\"] = Choose_Stocks\n",
        "    \n",
        "  return dfStock"
      ],
      "metadata": {
        "id": "Cm6bFibelg-h"
      },
      "execution_count": 17,
      "outputs": []
    },
    {
      "cell_type": "code",
      "source": [
        "from multiprocessing import Pool\n",
        "\n",
        "Choose_Stocks = tickers[\"Papel\"].values + \".SA\"\n",
        "p = Pool(50)\n",
        "df_final = p.map(scrape_Yf_Finance, Choose_Stocks)\n",
        "p.terminate()\n",
        "p.join()\n",
        "\n",
        "df_final = pd.concat(df_final)\n",
        "df_final = df_final[df_final.columns[:-1]]"
      ],
      "metadata": {
        "id": "i_Asu-wJlSmU"
      },
      "execution_count": null,
      "outputs": []
    },
    {
      "cell_type": "code",
      "source": [
        "df_final.to_csv(\"base.csv\", sep = \";\", decimal=',')"
      ],
      "metadata": {
        "id": "r5-lVfxxMCy3"
      },
      "execution_count": 20,
      "outputs": []
    }
  ]
}